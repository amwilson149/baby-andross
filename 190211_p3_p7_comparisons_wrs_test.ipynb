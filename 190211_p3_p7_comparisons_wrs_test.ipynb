{
 "cells": [
  {
   "cell_type": "code",
   "execution_count": 11,
   "metadata": {},
   "outputs": [],
   "source": [
    "import numpy as np\n",
    "import scipy.stats as st\n",
    "import json"
   ]
  },
  {
   "cell_type": "markdown",
   "metadata": {},
   "source": [
    "Set figure font size"
   ]
  },
  {
   "cell_type": "code",
   "execution_count": 12,
   "metadata": {},
   "outputs": [],
   "source": [
    "FS = 18"
   ]
  },
  {
   "cell_type": "markdown",
   "metadata": {},
   "source": [
    "Comparison 1: climbing fiber branch divergences from p3 vs. p7 (all branches and full terminal arbors only)"
   ]
  },
  {
   "cell_type": "code",
   "execution_count": 19,
   "metadata": {},
   "outputs": [],
   "source": [
    "p3alldivfname = './data/cf_divergences/190205_p3_npcspercf.json'\n",
    "p7alldivfname = './data/cf_divergences/190205_p7_npcspercf.json'\n",
    "p3ftadivfname = './data/cf_divergences/190205_p3_npcspercf_full_term_arbors.json'\n",
    "p7ftadivfname = './data/cf_divergences/190205_p7_npcspercf_full_term_arbors.json'"
   ]
  },
  {
   "cell_type": "code",
   "execution_count": 20,
   "metadata": {},
   "outputs": [],
   "source": [
    "with open(p3alldivfname,'r') as f:\n",
    "    p3divalld = json.loads(f.read())\n",
    "with open(p7alldivfname,'r') as f:\n",
    "    p7divalld = json.loads(f.read())\n",
    "with open(p3ftadivfname,'r') as f:\n",
    "    p3divftad = json.loads(f.read())\n",
    "with open(p7ftadivfname,'r') as f:\n",
    "    p7divftad = json.loads(f.read())"
   ]
  },
  {
   "cell_type": "code",
   "execution_count": 21,
   "metadata": {},
   "outputs": [],
   "source": [
    "p3divall = p3divalld['p3_npcspercf_all']\n",
    "p7divall = p7divalld['p7_npcspercf_all']\n",
    "p3divfta = p3divftad['p3_npcspercf_ftas']\n",
    "p7divfta = p7divftad['p7_npcspercf_ftas']"
   ]
  },
  {
   "cell_type": "code",
   "execution_count": 23,
   "metadata": {},
   "outputs": [
    {
     "name": "stdout",
     "output_type": "stream",
     "text": [
      "0.9922063481244147 0.5316673617377636\n"
     ]
    }
   ],
   "source": [
    "wrsall,pall = st.ranksums(p3divall,p7divall)\n",
    "wrsfta,pfta = st.ranksums(p3divfta,p7divfta)\n",
    "print(pall,pfta)"
   ]
  },
  {
   "cell_type": "code",
   "execution_count": null,
   "metadata": {},
   "outputs": [],
   "source": []
  }
 ],
 "metadata": {
  "kernelspec": {
   "display_name": "Python 3",
   "language": "python",
   "name": "python3"
  },
  "language_info": {
   "codemirror_mode": {
    "name": "ipython",
    "version": 3
   },
   "file_extension": ".py",
   "mimetype": "text/x-python",
   "name": "python",
   "nbconvert_exporter": "python",
   "pygments_lexer": "ipython3",
   "version": "3.6.7"
  }
 },
 "nbformat": 4,
 "nbformat_minor": 2
}
